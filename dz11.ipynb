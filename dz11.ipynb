{
  "nbformat": 4,
  "nbformat_minor": 0,
  "metadata": {
    "colab": {
      "provenance": [],
      "authorship_tag": "ABX9TyM0rLmFLUuQgXSTxStub3t3",
      "include_colab_link": true
    },
    "kernelspec": {
      "name": "python3",
      "display_name": "Python 3"
    },
    "language_info": {
      "name": "python"
    }
  },
  "cells": [
    {
      "cell_type": "markdown",
      "metadata": {
        "id": "view-in-github",
        "colab_type": "text"
      },
      "source": [
        "<a href=\"https://colab.research.google.com/github/petrovich601/dz/blob/main/dz11.ipynb\" target=\"_parent\"><img src=\"https://colab.research.google.com/assets/colab-badge.svg\" alt=\"Open In Colab\"/></a>"
      ]
    },
    {
      "cell_type": "markdown",
      "source": [
        "# f(x) = -12x^4*sin(cos(x)) - 18x^3+5x^2 + 10x - 30\n",
        "\n",
        "# Определить корни\n",
        "\n",
        "# Найти интервалы, на которых функция возрастает\n",
        "\n",
        "# Найти интервалы, на которых функция убывает\n",
        "\n",
        "# Построить график\n",
        "\n",
        "# Вычислить вершину\n",
        "\n",
        "# Определить промежутки, на котором f > 0\n",
        "\n",
        "# Определить промежутки, на котором f < 0"
      ],
      "metadata": {
        "id": "ATcOEN9aAKer"
      }
    },
    {
      "cell_type": "code",
      "source": [
        "import numpy as np\n",
        "import matplotlib.pyplot as plt\n",
        "\n",
        "a, b, c, d, e = -12, -18, 5, 10, -30\n",
        "limit = 100\n",
        "step = 0.01\n",
        "step_acr = 0.000001\n",
        "line_style = '-'\n",
        "color = 'b'\n",
        "direct_up = True"
      ],
      "metadata": {
        "id": "qTNXIU-guEz9"
      },
      "execution_count": 20,
      "outputs": []
    },
    {
      "cell_type": "code",
      "source": [
        "def switch_line():\n",
        "  global line_style\n",
        "  if line_style == '-':\n",
        "    line_style = '--'\n",
        "  else:\n",
        "    line_style = '-'\n",
        "  return line_style"
      ],
      "metadata": {
        "id": "Y56abhZpuG6Q"
      },
      "execution_count": 21,
      "outputs": []
    },
    {
      "cell_type": "code",
      "source": [
        "def switch_color():\n",
        "  global color\n",
        "  if color == 'b':\n",
        "    color = 'r'\n",
        "  else:\n",
        "    color = 'b'\n",
        "  return color"
      ],
      "metadata": {
        "id": "HBZh7x-4wJLg"
      },
      "execution_count": 22,
      "outputs": []
    },
    {
      "cell_type": "code",
      "source": [
        "def func(x):\n",
        "    f = a * x ** 4 * np.sin(np.cos(x)) + b * x ** 3 + c * x ** 2 + d * x + e\n",
        "    return f"
      ],
      "metadata": {
        "id": "5NguwycHwJc4"
      },
      "execution_count": 23,
      "outputs": []
    },
    {
      "cell_type": "code",
      "source": [
        "x = np.arange(-limit, limit + step, step)\n",
        "\n",
        "x_change = [(-limit, 'limit')]"
      ],
      "metadata": {
        "id": "6uK3RkYo3X_u"
      },
      "execution_count": 24,
      "outputs": []
    },
    {
      "cell_type": "code",
      "source": [
        "for i in range(len(x) - 1):\n",
        "  if func(x[i]) > 0 and func(x[i+1]) < 0 or func(x[i]) < 0 and func(x[i+1]) > 0:\n",
        "    x_acr = np.arange(x[i], x[i + 1] + step_acr, step_acr)\n",
        "    for j in range(len(x_acr) - 1):\n",
        "      if func(x_acr[j]) > 0 and func(x_acr[j+1]) < 0 or func(x_acr[j]) < 0 and func(x_acr[j+1]) > 0:\n",
        "          x_change.append((x_acr[j], 'zero'))\n",
        "  if direct_up:\n",
        "    if func(x[i]) > func(x[i+1]):\n",
        "      direct_up = False\n",
        "      x_change.append((x[i], 'dir'))\n",
        "  else:\n",
        "    if func(x[i]) < func(x[i+1]):\n",
        "      direct_up = True\n",
        "      x_change.append((x[i], 'dir'))\n",
        "      \n",
        "x_change.append((limit, 'limit'))\n"
      ],
      "metadata": {
        "id": "jLUfGfZcuGEY"
      },
      "execution_count": 25,
      "outputs": []
    },
    {
      "cell_type": "code",
      "source": [
        "for i in range(len(x_change) - 1):\n",
        "  cur_x = np.arange(x_change[i][0], x_change[i + 1][0] + step, step)\n",
        "  if x_change[i][1] == 'zero':\n",
        "    plt.plot(x_change[i][0], func(x_change[i + 1][0]), 'go')\n",
        "    plt.rcParams['lines.linestyle'] = switch_line()\n",
        "    plt.plot(cur_x, func(cur_x), color)\n",
        "  else:\n",
        "    plt.plot(cur_x, func(cur_x), switch_color())\n",
        "plt.plot('go', label='Вершина')\n",
        "plt.plot('r', label='Возрастание')\n",
        "plt.plot('b', label='Убывание')\n",
        "plt.legend()\n",
        "plt.grid()\n",
        "plt.show()"
      ],
      "metadata": {
        "colab": {
          "base_uri": "https://localhost:8080/",
          "height": 265
        },
        "id": "14bjJXCe-XLB",
        "outputId": "1b8d555e-ce5d-4fb5-ea23-4676b24ae79a"
      },
      "execution_count": 32,
      "outputs": [
        {
          "output_type": "display_data",
          "data": {
            "text/plain": [
              "<Figure size 432x288 with 1 Axes>"
            ],
            "image/png": "[encoded data removed]"
          },
          "metadata": {
            "needs_background": "light"
          }
        }
      ]
    }
  ]
}